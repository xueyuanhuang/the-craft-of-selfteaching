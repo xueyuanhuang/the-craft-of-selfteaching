{
 "cells": [
  {
   "cell_type": "markdown",
   "id": "256a7627",
   "metadata": {},
   "source": [
    "mentioned a few books writer wrote:《take time as a friend》,《the road to wealth freedom》,《self cultivate as a cookie》"
   ]
  },
  {
   "cell_type": "markdown",
   "id": "5783e02d",
   "metadata": {},
   "source": [
    "`hello`"
   ]
  },
  {
   "cell_type": "markdown",
   "id": "65a4261b",
   "metadata": {},
   "source": [
    "in this page the writer trying to tell the important of self teaching, which is the basic of why he write this book"
   ]
  }
 ],
 "metadata": {
  "kernelspec": {
   "display_name": "Python 3 (ipykernel)",
   "language": "python",
   "name": "python3"
  },
  "language_info": {
   "codemirror_mode": {
    "name": "ipython",
    "version": 3
   },
   "file_extension": ".py",
   "mimetype": "text/x-python",
   "name": "python",
   "nbconvert_exporter": "python",
   "pygments_lexer": "ipython3",
   "version": "3.11.3"
  }
 },
 "nbformat": 4,
 "nbformat_minor": 5
}
