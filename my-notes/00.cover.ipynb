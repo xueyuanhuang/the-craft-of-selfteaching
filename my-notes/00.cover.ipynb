{
 "cells": [
  {
   "cell_type": "markdown",
   "id": "fa93d696",
   "metadata": {},
   "source": [
    "<a name='name'>I am top</a>"
   ]
  },
  {
   "cell_type": "markdown",
   "id": "6c064498",
   "metadata": {},
   "source": [
    "# 1\n",
    ">One has no future if one couldn't teach themself."
   ]
  },
  {
   "cell_type": "markdown",
   "id": "0137cee0",
   "metadata": {},
   "source": [
    "The reason here why use themself instead of themselves is to specifically indicate just one person.\n",
    "\n",
    "or in other words, indicate the person who could't teach himself/herself"
   ]
  },
  {
   "cell_type": "markdown",
   "id": "c1589e18",
   "metadata": {},
   "source": [
    "# 2\n",
    ">**霍炬**（[@virushuo](https://github.com/huo-ju)）、**洪强宁**（[@hongqn](https://github.com/hongqn))"
   ]
  },
  {
   "cell_type": "markdown",
   "id": "72aedc2b",
   "metadata": {},
   "source": [
    "follow up two people in github"
   ]
  },
  {
   "cell_type": "markdown",
   "id": "5cf77884",
   "metadata": {},
   "source": [
    "# 3\n",
    "```Python\n",
    "# pseudo-code of selfteaching in Python\n",
    "\n",
    "def teach_yourself(anything):\n",
    "    while not create():\n",
    "        learn()\n",
    "        practice()\n",
    "    return teach_yourself(another)\n",
    "\n",
    "teach_yourself(coding)\n",
    "```"
   ]
  },
  {
   "cell_type": "markdown",
   "id": "e02b3a5f",
   "metadata": {},
   "source": [
    "in the markdown mode use \n",
    "\n",
    "\\```\n",
    "\n",
    "\n",
    "\\```\n",
    "\n",
    "can specifically indicate the content as code"
   ]
  },
  {
   "cell_type": "markdown",
   "id": "af0e8291",
   "metadata": {},
   "source": [
    "# 4\n",
    "## 目录\n",
    "\n",
    "> - [01.preface（**前言**）](01.preface.ipynb)\n",
    "> - [02.proof-of-work（**如何证明你真的读过这本书？**）](02.proof-of-work.ipynb)\n",
    "> - [Part.1.A.better.teachyourself（**为什么一定要掌握自学能力？**）](Part.1.A.better.teachyourself.ipynb)\n",
    "> - [Part.1.B.why.start.from.learning.coding（**为什么把编程当作自学的入口？**）](Part.1.B.why.start.from.learning.coding.ipynb)\n",
    "> - [Part.1.C.must.learn.sth.only.by.reading（**只靠阅读习得新技能**）](Part.1.C.must.learn.sth.only.by.reading.ipynb)\n",
    "> - [Part.1.D.preparation.for.reading（**开始阅读前的一些准备**）](Part.1.D.preparation.for.reading.ipynb)\n",
    "> - [Part.1.E.1.entrance（**入口**）](Part.1.E.1.entrance.ipynb)\n",
    "> - [Part.1.E.2.values-and-their-operators（**值及其相应的运算**）](Part.1.E.2.values-and-their-operators.ipynb)\n",
    "> - [Part.1.E.3.controlflow（**流程控制**）](Part.1.E.3.controlflow.ipynb)\n",
    "> - [Part.1.E.4.functions（**函数**）](Part.1.E.4.functions.ipynb)\n",
    "> - [Part.1.E.5.strings（**字符串**）](Part.1.E.5.strings.ipynb)\n",
    "> - [Part.1.E.6.containers（**数据容器**）](Part.1.E.6.containers.ipynb)\n",
    "> - [Part.1.E.7.files（**文件**）](Part.1.E.7.files.ipynb)\n",
    "> - [Part.1.F.deal-with-forward-references（**如何从容应对含有过多 “过早引用” 的知识？**）](Part.1.F.deal-with-forward-references.ipynb)\n",
    "> - [Part.1.G.The-Python-Tutorial-local（**官方教程：The Python Tutorial**）](Part.1.G.The-Python-Tutorial-local.ipynb)\n",
    "> - [Part.2.A.clumsy-and-patience（**笨拙与耐心**）](Part.2.A.clumsy-and-patience.ipynb)\n",
    "> - [Part.2.B.deliberate-practicing（**刻意练习**）](Part.2.B.deliberate-practicing.ipynb)\n",
    "> - [Part.2.C.why-start-from-writing-functions（**为什么从函数开始？**）](Part.2.C.why-start-from-writing-functions.ipynb)\n",
    "> - [Part.2.D.1-args（**关于参数（上）**）](Part.2.D.1-args.ipynb)\n",
    "> - [Part.2.D.2-aargs（**关于参数（下）**）](Part.2.D.2-aargs.ipynb)\n",
    "> - [Part.2.D.3-lambda（**化名与匿名**）](Part.2.D.3-lambda.ipynb)\n",
    "> - [Part.2.D.4-recursion（**递归函数**）](Part.2.D.4-recursion.ipynb)\n",
    "> - [Part.2.D.5-docstrings（**函数的文档**）](Part.2.D.5-docstrings.ipynb)\n",
    "> - [Part.2.D.6-modules（**保存到文件的函数**）](Part.2.D.6-modules.ipynb)\n",
    "> - [Part.2.D.7-tdd（**测试驱动的开发**）](Part.2.D.7-tdd.ipynb)\n",
    "> - [Part.2.D.8-main（**可执行的 Python 文件**）](Part.2.D.8-main.ipynb)\n",
    "> - [Part.2.E.deliberate-thinking（**刻意思考**）](Part.2.E.deliberate-thinking.ipynb)\n",
    "> - [Part.3.A.conquering-difficulties（**战胜难点**）](Part.3.A.conquering-difficulties.ipynb)\n",
    "> - [Part.3.B.1.classes-1（**类 —— 面向对象编程**）](Part.3.B.1.classes-1.ipynb)\n",
    "> - [Part.3.B.2.classes-2（**类 —— Python 的实现**）](Part.3.B.2.classes-2.ipynb)\n",
    "> - [Part.3.B.3.decorator-iterator-generator（**函数工具**）](Part.3.B.3.decorator-iterator-generator.ipynb)\n",
    "> - [Part.3.B.4.regex（**正则表达式**）](Part.3.B.4.regex.ipynb)\n",
    "> - [Part.3.B.5.bnf-ebnf-pebnf（**BNF 以及 EBNF**）](Part.3.B.5.bnf-ebnf-pebnf.ipynb)\n",
    "> - [Part.3.C.breaking-good-and-bad（**拆解**）](Part.3.C.breaking-good-and-bad.ipynb)\n",
    "> - [Part.3.D.indispensable-illusion（**刚需幻觉**）](Part.3.D.indispensable-illusion.ipynb)\n",
    "> - [Part.3.E.to-be-thorough（**全面 —— 自学的境界**）](Part.3.E.to-be-thorough.ipynb)\n",
    "> - [Part.3.F.social-selfteaching（**自学者的社交**）](Part.3.F.social-selfteaching.ipynb)\n",
    "> - [Part.3.G.the-golden-age-and-google（**这是自学者的黄金时代**）](Part.3.G.the-golden-age-and-google.ipynb)\n",
    "> - [Part.3.H.prevent-focus-drifting（**避免注意力漂移**）](Part.3.H.prevent-focus-drifting.ipynb)\n",
    "> - [Q.good-communiation（**如何成为优秀沟通者**）](Q.good-communication.ipynb)\n",
    "> - [R.finale（**自学者的终点**）](R.finale.ipynb)\n",
    "> - [S.whats-next（**下一步干什么？**）](S.whats-next.ipynb)\n",
    "> - [T-appendix.editor.vscode（**Visual Studio Code 的安装与配置**）](T-appendix.editor.vscode.ipynb)\n",
    "> - [T-appendix.git-introduction（**Git 简介**）](T-appendix.git-introduction.ipynb)\n",
    "> - [T-appendix.jupyter-installation-and-setup（**Jupyterlab 的安装与配置**）](T-appendix.jupyter-installation-and-setup.ipynb)\n",
    "> - [T-appendix.symbols（**这些符号都代表什么？**）](T-appendix.symbols.ipynb)"
   ]
  },
  {
   "cell_type": "markdown",
   "id": "7f72bedd",
   "metadata": {},
   "source": [
    "use <> -> can make above"
   ]
  },
  {
   "cell_type": "markdown",
   "id": "2693bec8",
   "metadata": {},
   "source": [
    "# 5 make a image\n",
    "![CC-BY-NC-ND](../images/CC-BY-NC-ND.png)"
   ]
  },
  {
   "cell_type": "markdown",
   "id": "5e54b3c8",
   "metadata": {},
   "source": [
    "<![\\<name of image>](\\<url of the image>)>"
   ]
  },
  {
   "cell_type": "markdown",
   "id": "7fb9296a",
   "metadata": {},
   "source": [
    "# 6 make separate line"
   ]
  },
  {
   "cell_type": "markdown",
   "id": "7b23d300",
   "metadata": {},
   "source": [
    "---"
   ]
  },
  {
   "cell_type": "markdown",
   "id": "47dbe625",
   "metadata": {},
   "source": [
    "<--->"
   ]
  },
  {
   "cell_type": "markdown",
   "id": "5990f481",
   "metadata": {},
   "source": [
    "# 7 HTML knowledge"
   ]
  },
  {
   "cell_type": "markdown",
   "id": "2127f98b",
   "metadata": {},
   "source": [
    "go to <a href='#name' name='name'>top</a>"
   ]
  },
  {
   "cell_type": "markdown",
   "id": "02107b7b",
   "metadata": {},
   "source": [
    "try above you should know how to use it already..."
   ]
  },
  {
   "cell_type": "markdown",
   "id": "902609ee",
   "metadata": {},
   "source": [
    "# 8 HTML  \\<a>\\<small>\\</small>\\<a>"
   ]
  },
  {
   "cell_type": "markdown",
   "id": "838df713",
   "metadata": {},
   "source": [
    "<a href=\"./01.preface.ipynb\" ><small>Next Page</small></a>"
   ]
  },
  {
   "cell_type": "markdown",
   "id": "2dfe9329",
   "metadata": {},
   "source": [
    "it can make middle words small"
   ]
  },
  {
   "cell_type": "markdown",
   "id": "c0545291",
   "metadata": {},
   "source": [
    "# 9 understand the path"
   ]
  },
  {
   "cell_type": "markdown",
   "id": "e116b126",
   "metadata": {},
   "source": [
    "./01.preface.ipynb\n",
    "\n",
    "\n",
    "../01.preface.ipynb"
   ]
  },
  {
   "cell_type": "markdown",
   "id": "d443e21d",
   "metadata": {},
   "source": [
    "# 10 summary"
   ]
  },
  {
   "cell_type": "markdown",
   "id": "11e75694",
   "metadata": {},
   "source": [
    "jsut a cover just basic knowledge about how to write a book cover can learn.\n",
    "\n",
    "this way of learning is time wasting"
   ]
  }
 ],
 "metadata": {
  "kernelspec": {
   "display_name": "Python 3 (ipykernel)",
   "language": "python",
   "name": "python3"
  },
  "language_info": {
   "codemirror_mode": {
    "name": "ipython",
    "version": 3
   },
   "file_extension": ".py",
   "mimetype": "text/x-python",
   "name": "python",
   "nbconvert_exporter": "python",
   "pygments_lexer": "ipython3",
   "version": "3.11.3"
  }
 },
 "nbformat": 4,
 "nbformat_minor": 5
}
